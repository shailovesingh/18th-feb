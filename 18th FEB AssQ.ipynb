{
 "cells": [
  {
   "cell_type": "markdown",
   "id": "91e8b07a-5c3f-4e64-8a82-bf63bdc69b08",
   "metadata": {},
   "source": [
    "Q1\n",
    "\n",
    "API (application programming interface) is a software that allows two application to talk to each others. Api helps in enabling applications to exchange data and functions easily. API is also called as middle man.It also helps in data monetisation and helps to improve collaboration.\n",
    "\n",
    "API use in Real life:\n",
    "\n",
    "In weather snippets -- In weather snippets APIs are generally used to access large set of databse to access information of weather forecast.\n",
    "\n",
    "Login -- APIs are widely used to login via google , github etc. which alloes users to access the log-in portal by using api interface.\n",
    "\n",
    "E-commerce website -- In this APIs provide functionality like if you can purchase somrething and now you want to pay so then api provides and interface like you can pay using debit card,credit card , UPI etc."
   ]
  },
  {
   "cell_type": "markdown",
   "id": "5ce702b5-03ae-4c08-afc3-35447c313dd1",
   "metadata": {},
   "source": [
    "Q2\n",
    "\n",
    "Advantages of APIs.:\n",
    "\n",
    "    1> Efficiency : Api produces efficient, quicker, and more reliable results than the ouput presents by an human being in an organisation.\n",
    "    2> Flexibility : API provides fast and flexible delivery services according to developrs requirements.\n",
    "    3> Integration : The best feature of API is that it allow the movement of the data between various sites and thus enhaces the integrated user    experience.\n",
    "    4> Automation : APIs makes use of robotics computer rather than humans, it produces better and more automated results.\n",
    "    \n",
    "Disadvantages of APIs:\n",
    "\n",
    "    1> Cost : Developing and implementing API is costly at times and requires high maintainence.\n",
    "    2> Security issues : using API add another layer of surface which is prone to attacks and hence the security risk problem is common."
   ]
  },
  {
   "cell_type": "markdown",
   "id": "e240f26a-aa93-4ee9-8130-cecbffa61d18",
   "metadata": {},
   "source": [
    "Q3\n",
    "\n",
    "Web APIs are commonly used for accessing databases and servers, as well as integrating third-party services and data into applications. web APIs provide a standardized way for different software systems to communicate and exchange data over the internet, allowing developers to create applications that can access and use functionality provided by other systems.\n",
    "\n",
    "Some common use cases for web APIs include accessing weather data, social media platforms, financial information, and location-based services, among many others. By using web APIs, developers can save time and resources by leveraging existing functionality and data, rather than building everything from scratch.\n",
    "\n",
    "Web API is just sub-category of API.\n",
    "\n",
    "    1> APIs are application interface implying that one application can communicate with another appication in a standarized manner while web API are a type of a API which must me accesed through network connection.\n",
    "    2> API is used for any style of communication while Web API used REST ,SOAP for communication.\n"
   ]
  },
  {
   "cell_type": "markdown",
   "id": "61a32d3f-7394-4be8-9d0e-5218d6ebe54e",
   "metadata": {},
   "source": [
    "Q4.\n",
    "\n",
    "REST\n",
    "\n",
    "REST stand for representational state transfer. It is a software architectural style that defines the set of rules to be used for creating web services. Web services which follow REST architectural style are known as Restful web services or API. REST APIs uses HTTP as communication protocol. Restful system consists of a 1. client who request for resource 2. server who has the resources.\n",
    "\n",
    "SOAP\n",
    "\n",
    "SOAP stands for simple object access protocol is a network platform used in web services to exchange or communicate the data between two different networks. SOAP uses XML as the intermediate language for exchanging data between application. SOAP was designed to work with XML over HTTP because is supported by all internet browsers ann services.\n",
    "\n",
    "Shortcomings in SOAP:\n",
    "\n",
    "1. SOAP is used only XML format data in web service wheras JSON and other lightweight fotmats are not supported by it.\n",
    "2. It is slow because it uses XML format.\n",
    "3. Implementation of SOAP is very difficult."
   ]
  },
  {
   "cell_type": "markdown",
   "id": "b9e65272-996f-4678-9436-49e1d8dd6fb9",
   "metadata": {},
   "source": [
    "Q5\n",
    "\n",
    "Difference between SOAP and REST:\n",
    "\n",
    "SOAP:\n",
    "\n",
    "SOAP stand for simple object acces protocol.\n",
    "SOAP is a protocol, follows strict standard to allow communication between client and servers.\n",
    "SOAP only uses XML for exchanging information in its message format.\n",
    "SOAP is difficult to implement and it is heavyweight.\n",
    "On the basis of security SOAP is more secure than REST.\n",
    "SOAP cannot use REST since SOAP is a protocol without any architectural style.\n",
    "REST:\n",
    "\n",
    "REST stands for Reorentational state transfer.\n",
    "REST is a architectural style follow its own defined principles.\n",
    "REST uses XML ,JSON, etc, depend upon implementer.\n",
    "REST is lightweight and easy to use.\n",
    "REST is less secure than SOAP.\n",
    "REST can make use of SOAP because it is an architectural pattern having proyocol"
   ]
  }
 ],
 "metadata": {
  "kernelspec": {
   "display_name": "Python 3 (ipykernel)",
   "language": "python",
   "name": "python3"
  },
  "language_info": {
   "codemirror_mode": {
    "name": "ipython",
    "version": 3
   },
   "file_extension": ".py",
   "mimetype": "text/x-python",
   "name": "python",
   "nbconvert_exporter": "python",
   "pygments_lexer": "ipython3",
   "version": "3.10.8"
  }
 },
 "nbformat": 4,
 "nbformat_minor": 5
}
